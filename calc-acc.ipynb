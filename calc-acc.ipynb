{
    "cells": [
        {
            "cell_type": "code",
            "execution_count": 4,
            "metadata": {},
            "outputs": [],
            "source": [
                "import pandas as pd\n",
                "\n",
                "\n",
                "def calc_accuracies(ground_truth_file, results_folder):\n",
                "    groud_truth = pd.read_csv(ground_truth_file, header=None, delimiter=\" \")\n",
                "    groud_truth = groud_truth.sort_values(0).reset_index(drop=True)\n",
                "\n",
                "    average_acc = 0\n",
                "    for i in range(10):\n",
                "        phase = i + 1\n",
                "        phase_gt = groud_truth.loc[groud_truth[1] < 10 * phase].reset_index(drop=True)\n",
                "\n",
                "        result = pd.read_csv(\n",
                "            f\"{results_folder}/result_{phase}.txt\", header=None, delimiter=\" \"\n",
                "        )\n",
                "        result = result.loc[result[0].isin(phase_gt[0].values)].reset_index(drop=True)\n",
                "\n",
                "        acc = 1 - len(result.compare(phase_gt)) / len(phase_gt)\n",
                "        print(f\"phase: {phase}\\tacc: {acc}\", flush=True)\n",
                "        average_acc += acc\n",
                "\n",
                "    return acc, average_acc / 10"
            ]
        },
        {
            "cell_type": "code",
            "execution_count": 5,
            "metadata": {},
            "outputs": [
                {
                    "name": "stdout",
                    "output_type": "stream",
                    "text": [
                        "phase: 1\tacc: 0.8850574712643678\n",
                        "phase: 2\tacc: 0.8295454545454546\n",
                        "phase: 3\tacc: 0.8333333333333334\n",
                        "phase: 4\tacc: 0.8153409090909091\n",
                        "phase: 5\tacc: 0.8072562358276644\n",
                        "phase: 6\tacc: 0.8342749529190208\n",
                        "phase: 7\tacc: 0.8112903225806452\n",
                        "phase: 8\tacc: 0.8098591549295775\n",
                        "phase: 9\tacc: 0.8055207026348807\n",
                        "phase: 10\tacc: 0.7878103837471784\n"
                    ]
                },
                {
                    "data": {
                        "text/plain": [
                            "(0.7878103837471784, 0.8219288920873034)"
                        ]
                    },
                    "execution_count": 5,
                    "metadata": {},
                    "output_type": "execute_result"
                }
            ],
            "source": [
                "final_acc, average_acc = calc_accuracies(\"reference_data/val_gt.txt\", \"results\")\n",
                "final_acc, average_acc"
            ]
        },
        {
            "cell_type": "code",
            "execution_count": 10,
            "metadata": {},
            "outputs": [
                {
                    "name": "stdout",
                    "output_type": "stream",
                    "text": [
                        "phase: 1\tacc: 0.9468599033816425\n",
                        "phase: 2\tacc: 0.8701923076923077\n",
                        "phase: 3\tacc: 0.8298555377207062\n",
                        "phase: 4\tacc: 0.8435619735258725\n",
                        "phase: 5\tacc: 0.8346153846153846\n",
                        "phase: 6\tacc: 0.8351999999999999\n",
                        "phase: 7\tacc: 0.8178082191780822\n",
                        "phase: 8\tacc: 0.8077844311377246\n",
                        "phase: 9\tacc: 0.7980820458177944\n",
                        "phase: 10\tacc: 0.7954000958313369\n"
                    ]
                },
                {
                    "data": {
                        "text/plain": [
                            "(0.7954000958313369, 0.837935989890085)"
                        ]
                    },
                    "execution_count": 10,
                    "metadata": {},
                    "output_type": "execute_result"
                }
            ],
            "source": [
                "final_acc, average_acc = calc_accuracies(\"reference_data/test_gt.txt\", \"test_results\")\n",
                "final_acc, average_acc"
            ]
        }
    ],
    "metadata": {
        "accelerator": "GPU",
        "colab": {
            "gpuType": "T4",
            "provenance": []
        },
        "kernelspec": {
            "display_name": "Python 3",
            "name": "python3"
        },
        "language_info": {
            "codemirror_mode": {
                "name": "ipython",
                "version": 3
            },
            "file_extension": ".py",
            "mimetype": "text/x-python",
            "name": "python",
            "nbconvert_exporter": "python",
            "pygments_lexer": "ipython3",
            "version": "3.11.4"
        }
    },
    "nbformat": 4,
    "nbformat_minor": 0
}
